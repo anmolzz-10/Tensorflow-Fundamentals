{
 "cells": [
  {
   "cell_type": "markdown",
   "id": "ecbf6856",
   "metadata": {},
   "source": [
    "# Creating tensors with tf.Variable()"
   ]
  },
  {
   "cell_type": "code",
   "execution_count": 2,
   "id": "4686c304",
   "metadata": {},
   "outputs": [],
   "source": [
    "import tensorflow as tf"
   ]
  },
  {
   "cell_type": "code",
   "execution_count": 3,
   "id": "2c0398eb",
   "metadata": {},
   "outputs": [
    {
     "data": {
      "text/plain": [
       "(<tf.Variable 'Variable:0' shape=(2,) dtype=int32, numpy=array([10,  7])>,\n",
       " <tf.Tensor: shape=(2,), dtype=int32, numpy=array([10,  7])>)"
      ]
     },
     "execution_count": 3,
     "metadata": {},
     "output_type": "execute_result"
    }
   ],
   "source": [
    "changeable_tensor=tf.Variable([10,7])\n",
    "unchangeable_tensor=tf.constant([10,7])\n",
    "changeable_tensor, unchangeable_tensor"
   ]
  },
  {
   "cell_type": "code",
   "execution_count": 4,
   "id": "07b0f163",
   "metadata": {},
   "outputs": [
    {
     "data": {
      "text/plain": [
       "<tf.Tensor: shape=(), dtype=int32, numpy=10>"
      ]
     },
     "execution_count": 4,
     "metadata": {},
     "output_type": "execute_result"
    }
   ],
   "source": [
    "# lets try change one of the elements in our changeable tensor\n",
    "changeable_tensor[0]"
   ]
  },
  {
   "cell_type": "code",
   "execution_count": 5,
   "id": "3b5a5b05",
   "metadata": {},
   "outputs": [
    {
     "data": {
      "text/plain": [
       "<tf.Variable 'Variable:0' shape=(2,) dtype=int32, numpy=array([7, 7])>"
      ]
     },
     "execution_count": 5,
     "metadata": {},
     "output_type": "execute_result"
    }
   ],
   "source": [
    "changeable_tensor[0].assign(7)\n",
    "changeable_tensor"
   ]
  },
  {
   "cell_type": "code",
   "execution_count": 6,
   "id": "93e6900c",
   "metadata": {},
   "outputs": [
    {
     "name": "stdout",
     "output_type": "stream",
     "text": [
      "It is not possible to change the value of a constant tensor.\n"
     ]
    }
   ],
   "source": [
    "try:\n",
    "    unchangeable_tensor[0].assign(7) \n",
    "    unchangeable_tensor\n",
    "\n",
    "except Exception as e:\n",
    "    print(\"It is not possible to change the value of a constant tensor.\")"
   ]
  },
  {
   "cell_type": "markdown",
   "id": "c67e4b57",
   "metadata": {},
   "source": [
    "### Use tf.Variable when you need a value that can change (like weights during training)\n",
    "### Use tf.constant when you need a fixed value."
   ]
  }
 ],
 "metadata": {
  "kernelspec": {
   "display_name": "venv",
   "language": "python",
   "name": "python3"
  },
  "language_info": {
   "codemirror_mode": {
    "name": "ipython",
    "version": 3
   },
   "file_extension": ".py",
   "mimetype": "text/x-python",
   "name": "python",
   "nbconvert_exporter": "python",
   "pygments_lexer": "ipython3",
   "version": "3.7.0"
  }
 },
 "nbformat": 4,
 "nbformat_minor": 5
}
