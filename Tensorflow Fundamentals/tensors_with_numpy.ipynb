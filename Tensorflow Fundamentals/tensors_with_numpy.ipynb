{
 "cells": [
  {
   "cell_type": "markdown",
   "id": "7a261047",
   "metadata": {},
   "source": [
    "# Tensors and Numpy "
   ]
  },
  {
   "cell_type": "markdown",
   "id": "90b32fb5",
   "metadata": {},
   "source": [
    "## Why this is powerful:\n",
    "NumPy = fast, flexible data handling\n",
    "\n",
    "TensorFlow = powerful modeling + GPU acceleration\n",
    "\n",
    "They work together seamlessly — no need to manually convert formats most of the time"
   ]
  },
  {
   "cell_type": "code",
   "execution_count": 3,
   "id": "97e298f2",
   "metadata": {},
   "outputs": [],
   "source": [
    "import tensorflow as tf\n",
    "import numpy as np"
   ]
  },
  {
   "cell_type": "code",
   "execution_count": 5,
   "id": "fdad9c00",
   "metadata": {},
   "outputs": [
    {
     "data": {
      "text/plain": [
       "<tf.Variable 'Variable:0' shape=(2, 3) dtype=int32, numpy=\n",
       "array([[1, 2, 3],\n",
       "       [4, 5, 6]])>"
      ]
     },
     "execution_count": 5,
     "metadata": {},
     "output_type": "execute_result"
    }
   ],
   "source": [
    "# Create a tensor directly from a numpy array \n",
    "\n",
    "np_array=np.array([[1,2,3],[4,5,6]])\n",
    "\n",
    "tensor=tf.Variable(np_array)\n",
    "\n",
    "tensor"
   ]
  },
  {
   "cell_type": "code",
   "execution_count": 6,
   "id": "4bad50cc",
   "metadata": {},
   "outputs": [
    {
     "name": "stdout",
     "output_type": "stream",
     "text": [
      "Tensor: tf.Tensor([1 2 3 4], shape=(4,), dtype=int32)\n"
     ]
    }
   ],
   "source": [
    "np_arr = np.array([1, 2, 3, 4])\n",
    "tf_tensor = tf.convert_to_tensor(np_arr)\n",
    "\n",
    "print(\"Tensor:\", tf_tensor)"
   ]
  },
  {
   "cell_type": "code",
   "execution_count": 8,
   "id": "c9bd8120",
   "metadata": {},
   "outputs": [
    {
     "data": {
      "text/plain": [
       "(array(<tf.Variable 'Variable:0' shape=(2, 3) dtype=int32, numpy=\n",
       " array([[1, 2, 3],\n",
       "        [4, 5, 6]])>, dtype=object),\n",
       " numpy.ndarray)"
      ]
     },
     "execution_count": 8,
     "metadata": {},
     "output_type": "execute_result"
    }
   ],
   "source": [
    "# Converts a tensor to a numpy array\n",
    "\n",
    "np.array(tensor) , type(np.array(tensor))"
   ]
  },
  {
   "cell_type": "code",
   "execution_count": 9,
   "id": "57fe808d",
   "metadata": {},
   "outputs": [
    {
     "name": "stdout",
     "output_type": "stream",
     "text": [
      "NumPy result: [2 4 6 8]\n"
     ]
    }
   ],
   "source": [
    "result = tf_tensor * 2       # TensorFlow operation\n",
    "np_result = result.numpy()   # Back to NumPy\n",
    "\n",
    "print(\"NumPy result:\", np_result)"
   ]
  },
  {
   "cell_type": "code",
   "execution_count": 10,
   "id": "af470cd0",
   "metadata": {},
   "outputs": [
    {
     "data": {
      "text/plain": [
       "array([[1, 2],\n",
       "       [3, 4]])"
      ]
     },
     "execution_count": 10,
     "metadata": {},
     "output_type": "execute_result"
    }
   ],
   "source": [
    "tensor = tf.constant([[1, 2], [3, 4]])\n",
    "\n",
    "tensor.numpy()  # Converts the tensor to a NumPy array"
   ]
  },
  {
   "cell_type": "markdown",
   "id": "c7ee2935",
   "metadata": {},
   "source": [
    "# ✅ Use NumPy for preprocessing, TensorFlow for modeling"
   ]
  },
  {
   "cell_type": "code",
   "execution_count": 11,
   "id": "8c4d6e52",
   "metadata": {},
   "outputs": [
    {
     "name": "stdout",
     "output_type": "stream",
     "text": [
      "tf.Tensor(\n",
      "[[ 0.64084023  0.34748086  0.30095583]\n",
      " [-0.7786505   0.7654589  -1.5540342 ]\n",
      " [ 0.28603482  0.3858939   0.73297703]\n",
      " [-0.52104264  1.2874637   1.4622967 ]\n",
      " [ 0.07618804 -1.5731565  -1.8587061 ]], shape=(5, 3), dtype=float32)\n"
     ]
    }
   ],
   "source": [
    "# NumPy for normalizing data\n",
    "data = np.random.rand(5, 3) * 100\n",
    "normalized = (data - np.mean(data)) / np.std(data)\n",
    "\n",
    "# Feed into TensorFlow\n",
    "tf_input = tf.convert_to_tensor(normalized, dtype=tf.float32)\n",
    "print(tf_input)"
   ]
  },
  {
   "cell_type": "markdown",
   "id": "daafcf58",
   "metadata": {},
   "source": [
    "# ✅ Slicing and reshaping using NumPy and TensorFlow together"
   ]
  },
  {
   "cell_type": "code",
   "execution_count": 12,
   "id": "7e8290db",
   "metadata": {},
   "outputs": [
    {
     "name": "stdout",
     "output_type": "stream",
     "text": [
      "tf.Tensor(\n",
      "[[ 1  2]\n",
      " [ 5  6]\n",
      " [ 9 10]], shape=(3, 2), dtype=int32)\n"
     ]
    }
   ],
   "source": [
    "a = np.arange(12).reshape(3, 4)  # NumPy reshape\n",
    "t = tf.convert_to_tensor(a)\n",
    "\n",
    "# TensorFlow slicing\n",
    "print(t[:, 1:3])"
   ]
  },
  {
   "cell_type": "markdown",
   "id": "5e6945eb",
   "metadata": {},
   "source": [
    "# ✅ Training with NumPy data in a TensorFlow model"
   ]
  },
  {
   "cell_type": "code",
   "execution_count": 13,
   "id": "0624f611",
   "metadata": {},
   "outputs": [
    {
     "name": "stdout",
     "output_type": "stream",
     "text": [
      "Epoch 1/3\n",
      "4/4 [==============================] - 0s 1ms/step - loss: 12.2811\n",
      "Epoch 2/3\n",
      "4/4 [==============================] - 0s 997us/step - loss: 12.2372\n",
      "Epoch 3/3\n",
      "4/4 [==============================] - 0s 749us/step - loss: 12.1938\n"
     ]
    },
    {
     "data": {
      "text/plain": [
       "<tensorflow.python.keras.callbacks.History at 0x1875dd305c0>"
      ]
     },
     "execution_count": 13,
     "metadata": {},
     "output_type": "execute_result"
    }
   ],
   "source": [
    "# NumPy data\n",
    "x = np.random.rand(100, 1)\n",
    "y = 3 * x + 2\n",
    "\n",
    "# TensorFlow model\n",
    "model = tf.keras.Sequential([\n",
    "    tf.keras.layers.Dense(1, input_shape=(1,))\n",
    "])\n",
    "\n",
    "model.compile(optimizer='adam', loss='mse')\n",
    "model.fit(x, y, epochs=3) "
   ]
  },
  {
   "cell_type": "code",
   "execution_count": null,
   "id": "8f748926",
   "metadata": {},
   "outputs": [],
   "source": []
  }
 ],
 "metadata": {
  "kernelspec": {
   "display_name": "venv",
   "language": "python",
   "name": "python3"
  },
  "language_info": {
   "codemirror_mode": {
    "name": "ipython",
    "version": 3
   },
   "file_extension": ".py",
   "mimetype": "text/x-python",
   "name": "python",
   "nbconvert_exporter": "python",
   "pygments_lexer": "ipython3",
   "version": "3.7.0"
  }
 },
 "nbformat": 4,
 "nbformat_minor": 5
}
