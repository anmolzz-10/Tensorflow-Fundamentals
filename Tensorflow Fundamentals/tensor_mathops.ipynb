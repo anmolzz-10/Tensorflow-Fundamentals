{
 "cells": [
  {
   "cell_type": "markdown",
   "id": "0f450055",
   "metadata": {},
   "source": [
    "# trying out more tensor math operations"
   ]
  },
  {
   "cell_type": "code",
   "execution_count": 1,
   "id": "62d8d86a",
   "metadata": {},
   "outputs": [],
   "source": [
    "import tensorflow as tf"
   ]
  },
  {
   "cell_type": "code",
   "execution_count": 3,
   "id": "5f7a26aa",
   "metadata": {},
   "outputs": [
    {
     "data": {
      "text/plain": [
       "<tf.Tensor: shape=(10,), dtype=int32, numpy=array([0, 1, 2, 3, 4, 5, 6, 7, 8, 9])>"
      ]
     },
     "execution_count": 3,
     "metadata": {},
     "output_type": "execute_result"
    }
   ],
   "source": [
    "tensor= tf.range(10)  # Creates a 1D tensor with values from 0 to 9\n",
    "\n",
    "tensor"
   ]
  },
  {
   "cell_type": "code",
   "execution_count": 6,
   "id": "73d796ac",
   "metadata": {},
   "outputs": [
    {
     "data": {
      "text/plain": [
       "<tf.Tensor: shape=(10,), dtype=int32, numpy=array([ 0,  1,  4,  9, 16, 25, 36, 49, 64, 81])>"
      ]
     },
     "execution_count": 6,
     "metadata": {},
     "output_type": "execute_result"
    }
   ],
   "source": [
    "# Square the tensor\n",
    "\n",
    "tf.square(tensor)  # Squares each element in the tensor"
   ]
  },
  {
   "cell_type": "code",
   "execution_count": 10,
   "id": "34dca8dd",
   "metadata": {},
   "outputs": [],
   "source": [
    "# will raise an error if tensor is int\n",
    "# tf.sqrt(tensor)  # Computes the square root of each element in the tensor"
   ]
  },
  {
   "cell_type": "code",
   "execution_count": 9,
   "id": "b593191a",
   "metadata": {},
   "outputs": [
    {
     "data": {
      "text/plain": [
       "<tf.Tensor: shape=(10,), dtype=float16, numpy=\n",
       "array([0.   , 1.   , 1.414, 1.732, 2.   , 2.236, 2.45 , 2.646, 2.828,\n",
       "       3.   ], dtype=float16)>"
      ]
     },
     "execution_count": 9,
     "metadata": {},
     "output_type": "execute_result"
    }
   ],
   "source": [
    "tf.sqrt(tf.cast(tensor,dtype=tf.float16))  # Computes the square root of each element in the tensor"
   ]
  },
  {
   "cell_type": "code",
   "execution_count": 13,
   "id": "219c6e3d",
   "metadata": {},
   "outputs": [
    {
     "data": {
      "text/plain": [
       "<tf.Tensor: shape=(10,), dtype=float16, numpy=\n",
       "array([  -inf, 0.    , 0.6934, 1.099 , 1.387 , 1.609 , 1.792 , 1.946 ,\n",
       "       2.08  , 2.197 ], dtype=float16)>"
      ]
     },
     "execution_count": 13,
     "metadata": {},
     "output_type": "execute_result"
    }
   ],
   "source": [
    "# finding the log \n",
    "tf.math.log(tf.cast(tensor,dtype=tf.float16)) "
   ]
  },
  {
   "cell_type": "code",
   "execution_count": 16,
   "id": "fdea67e5",
   "metadata": {},
   "outputs": [
    {
     "data": {
      "text/plain": [
       "<tf.Tensor: shape=(10,), dtype=float16, numpy=\n",
       "array([ 0.    ,  0.8413,  0.909 ,  0.1411, -0.757 , -0.959 , -0.2793,\n",
       "        0.657 ,  0.9893,  0.412 ], dtype=float16)>"
      ]
     },
     "execution_count": 16,
     "metadata": {},
     "output_type": "execute_result"
    }
   ],
   "source": [
    "# Computes the sine of each element in the tensor\n",
    "tf.sin(tf.cast(tensor,dtype=tf.float16))  # Computes the sine of each element in the tensor"
   ]
  },
  {
   "cell_type": "code",
   "execution_count": 17,
   "id": "fbf217a5",
   "metadata": {},
   "outputs": [
    {
     "data": {
      "text/plain": [
       "<tf.Tensor: shape=(10,), dtype=float16, numpy=\n",
       "array([ 1.    ,  0.5405, -0.4163, -0.99  , -0.654 ,  0.2837,  0.96  ,\n",
       "        0.754 , -0.1455, -0.911 ], dtype=float16)>"
      ]
     },
     "execution_count": 17,
     "metadata": {},
     "output_type": "execute_result"
    }
   ],
   "source": [
    "# Computes the cosine of each element in the tensor\n",
    "tf.cos(tf.cast(tensor,dtype=tf.float16))  # Computes the cosine of each element in the tensor"
   ]
  },
  {
   "cell_type": "code",
   "execution_count": null,
   "id": "86e47acb",
   "metadata": {},
   "outputs": [],
   "source": []
  }
 ],
 "metadata": {
  "kernelspec": {
   "display_name": "venv",
   "language": "python",
   "name": "python3"
  },
  "language_info": {
   "codemirror_mode": {
    "name": "ipython",
    "version": 3
   },
   "file_extension": ".py",
   "mimetype": "text/x-python",
   "name": "python",
   "nbconvert_exporter": "python",
   "pygments_lexer": "ipython3",
   "version": "3.7.0"
  }
 },
 "nbformat": 4,
 "nbformat_minor": 5
}
