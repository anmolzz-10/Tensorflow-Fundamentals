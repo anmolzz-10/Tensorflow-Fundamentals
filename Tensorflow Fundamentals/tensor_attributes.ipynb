{
 "cells": [
  {
   "cell_type": "markdown",
   "id": "88c2beb4",
   "metadata": {},
   "source": [
    "# Getting Information from the Tensor\n",
    "\n",
    "### Few imporatant attributes\n",
    "* Shape\n",
    "* Rank\n",
    "* Axis or dimension\n",
    "* size"
   ]
  },
  {
   "cell_type": "code",
   "execution_count": 1,
   "id": "24516e9a",
   "metadata": {},
   "outputs": [],
   "source": [
    "import tensorflow as tf "
   ]
  },
  {
   "cell_type": "code",
   "execution_count": 3,
   "id": "9c617f93",
   "metadata": {},
   "outputs": [
    {
     "data": {
      "text/plain": [
       "<tf.Tensor: shape=(2, 3, 4, 5), dtype=float32, numpy=\n",
       "array([[[[1., 1., 1., 1., 1.],\n",
       "         [1., 1., 1., 1., 1.],\n",
       "         [1., 1., 1., 1., 1.],\n",
       "         [1., 1., 1., 1., 1.]],\n",
       "\n",
       "        [[1., 1., 1., 1., 1.],\n",
       "         [1., 1., 1., 1., 1.],\n",
       "         [1., 1., 1., 1., 1.],\n",
       "         [1., 1., 1., 1., 1.]],\n",
       "\n",
       "        [[1., 1., 1., 1., 1.],\n",
       "         [1., 1., 1., 1., 1.],\n",
       "         [1., 1., 1., 1., 1.],\n",
       "         [1., 1., 1., 1., 1.]]],\n",
       "\n",
       "\n",
       "       [[[1., 1., 1., 1., 1.],\n",
       "         [1., 1., 1., 1., 1.],\n",
       "         [1., 1., 1., 1., 1.],\n",
       "         [1., 1., 1., 1., 1.]],\n",
       "\n",
       "        [[1., 1., 1., 1., 1.],\n",
       "         [1., 1., 1., 1., 1.],\n",
       "         [1., 1., 1., 1., 1.],\n",
       "         [1., 1., 1., 1., 1.]],\n",
       "\n",
       "        [[1., 1., 1., 1., 1.],\n",
       "         [1., 1., 1., 1., 1.],\n",
       "         [1., 1., 1., 1., 1.],\n",
       "         [1., 1., 1., 1., 1.]]]], dtype=float32)>"
      ]
     },
     "execution_count": 3,
     "metadata": {},
     "output_type": "execute_result"
    }
   ],
   "source": [
    "# Create a Rank  4 tensor \n",
    "rank_4_tensor=tf.ones(shape=[2,3,4,5])\n",
    "\n",
    "rank_4_tensor"
   ]
  },
  {
   "cell_type": "code",
   "execution_count": 4,
   "id": "dfa548bd",
   "metadata": {},
   "outputs": [
    {
     "data": {
      "text/plain": [
       "<tf.Tensor: shape=(3, 4, 5), dtype=float32, numpy=\n",
       "array([[[1., 1., 1., 1., 1.],\n",
       "        [1., 1., 1., 1., 1.],\n",
       "        [1., 1., 1., 1., 1.],\n",
       "        [1., 1., 1., 1., 1.]],\n",
       "\n",
       "       [[1., 1., 1., 1., 1.],\n",
       "        [1., 1., 1., 1., 1.],\n",
       "        [1., 1., 1., 1., 1.],\n",
       "        [1., 1., 1., 1., 1.]],\n",
       "\n",
       "       [[1., 1., 1., 1., 1.],\n",
       "        [1., 1., 1., 1., 1.],\n",
       "        [1., 1., 1., 1., 1.],\n",
       "        [1., 1., 1., 1., 1.]]], dtype=float32)>"
      ]
     },
     "execution_count": 4,
     "metadata": {},
     "output_type": "execute_result"
    }
   ],
   "source": [
    "rank_4_tensor[0]"
   ]
  },
  {
   "cell_type": "code",
   "execution_count": 7,
   "id": "b358e56a",
   "metadata": {},
   "outputs": [
    {
     "data": {
      "text/plain": [
       "(TensorShape([2, 3, 4, 5]),\n",
       " 4,\n",
       " <tf.Tensor: shape=(), dtype=int32, numpy=120>,\n",
       " tf.float32)"
      ]
     },
     "execution_count": 7,
     "metadata": {},
     "output_type": "execute_result"
    }
   ],
   "source": [
    "rank_4_tensor.shape, rank_4_tensor.ndim,tf.size(rank_4_tensor), rank_4_tensor.dtype"
   ]
  },
  {
   "cell_type": "code",
   "execution_count": 8,
   "id": "2988a331",
   "metadata": {},
   "outputs": [
    {
     "data": {
      "text/plain": [
       "120"
      ]
     },
     "execution_count": 8,
     "metadata": {},
     "output_type": "execute_result"
    }
   ],
   "source": [
    "2*3*4*5"
   ]
  },
  {
   "cell_type": "code",
   "execution_count": 13,
   "id": "7a465f97",
   "metadata": {},
   "outputs": [
    {
     "name": "stdout",
     "output_type": "stream",
     "text": [
      "Shape of tensor: (2, 3, 4, 5)\n",
      "Rank of tensor: 4\n",
      "Total number of elements in tensor: 120\n",
      "Data type of tensor: <dtype: 'float32'>\n",
      "Shape of Elements in the first dimension: 2\n",
      "Shape of Elements in the last dimension: 5\n"
     ]
    }
   ],
   "source": [
    "# Various attributes of our tensor\n",
    "print(\"Shape of tensor:\", rank_4_tensor.shape)\n",
    "print(\"Rank of tensor:\", rank_4_tensor.ndim)\n",
    "print(\"Total number of elements in tensor:\", tf.size(rank_4_tensor).numpy())\n",
    "print(\"Data type of tensor:\", rank_4_tensor.dtype)\n",
    "print(\"Shape of Elements in the first dimension:\", rank_4_tensor.shape[0])\n",
    "print(\"Shape of Elements in the last dimension:\", rank_4_tensor.shape[-1])"
   ]
  },
  {
   "cell_type": "markdown",
   "id": "b4e5c19c",
   "metadata": {},
   "source": [
    "| Attribute         | What it tells you                     | Example output       |\n",
    "| ----------------- | ------------------------------------- | -------------------- |\n",
    "| `tensor.shape`    | Shape (dimensions)                    | `(2, 3, 4)`          |\n",
    "| `tensor.ndim`     | Number of dimensions (rank)           | `3`                  |\n",
    "| `tf.size(tensor)` | Total number of elements              | `24`                 |\n",
    "| `tensor.dtype`    | Data type of elements                 | `tf.float32`         |\n",
    "| `tensor.device`   | Device it's stored on                 | `/CPU:0` or `/GPU:0` |\n",
    "| `tensor.numpy()`  | Convert to NumPy / Python native type | `np.ndarray`         |\n"
   ]
  }
 ],
 "metadata": {
  "kernelspec": {
   "display_name": "venv",
   "language": "python",
   "name": "python3"
  },
  "language_info": {
   "codemirror_mode": {
    "name": "ipython",
    "version": 3
   },
   "file_extension": ".py",
   "mimetype": "text/x-python",
   "name": "python",
   "nbconvert_exporter": "python",
   "pygments_lexer": "ipython3",
   "version": "3.7.0"
  }
 },
 "nbformat": 4,
 "nbformat_minor": 5
}
