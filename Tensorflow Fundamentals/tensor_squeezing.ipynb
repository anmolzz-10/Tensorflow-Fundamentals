{
 "cells": [
  {
   "cell_type": "markdown",
   "id": "fd8074a6",
   "metadata": {},
   "source": [
    "# Squeezing Tensor \n",
    "### means removing all dimensions that have size 1 from its shape to make it simpler, without changing the data."
   ]
  },
  {
   "cell_type": "code",
   "execution_count": 2,
   "id": "a462e40f",
   "metadata": {},
   "outputs": [],
   "source": [
    "import tensorflow as tf"
   ]
  },
  {
   "cell_type": "code",
   "execution_count": 6,
   "id": "250ea940",
   "metadata": {},
   "outputs": [
    {
     "data": {
      "text/plain": [
       "<tf.Tensor: shape=(50,), dtype=float32, numpy=\n",
       "array([9.9705029e-01, 8.9932346e-01, 2.0792413e-01, 2.7856541e-01,\n",
       "       8.8446999e-01, 1.0431421e-01, 1.2661099e-02, 4.0071595e-01,\n",
       "       2.1915472e-01, 5.8346772e-01, 9.1014934e-01, 8.0491555e-01,\n",
       "       7.9328024e-01, 2.9565430e-01, 6.0270667e-02, 4.5400679e-01,\n",
       "       1.7073905e-01, 2.3500395e-01, 4.7664285e-01, 3.3176446e-01,\n",
       "       1.8970525e-01, 1.0585785e-03, 9.2927825e-01, 6.2941420e-01,\n",
       "       4.9976587e-02, 3.7939191e-01, 9.3977487e-01, 6.4495635e-01,\n",
       "       9.7019124e-01, 4.3880939e-04, 7.6418650e-01, 2.6004434e-02,\n",
       "       5.5968225e-01, 1.8829286e-01, 6.8562901e-01, 8.4989607e-01,\n",
       "       3.3856428e-01, 5.3763020e-01, 9.2114198e-01, 8.4361279e-01,\n",
       "       2.4802768e-01, 2.0817482e-01, 8.5157001e-01, 1.7575347e-01,\n",
       "       7.7837574e-01, 9.1212273e-02, 5.7879865e-01, 2.3850286e-01,\n",
       "       3.9809120e-01, 6.2019622e-01], dtype=float32)>"
      ]
     },
     "execution_count": 6,
     "metadata": {},
     "output_type": "execute_result"
    }
   ],
   "source": [
    "tf.random.uniform(shape=[50])"
   ]
  },
  {
   "cell_type": "code",
   "execution_count": 7,
   "id": "d17edaef",
   "metadata": {},
   "outputs": [
    {
     "data": {
      "text/plain": [
       "<tf.Tensor: shape=(1, 1, 1, 1, 50), dtype=float32, numpy=\n",
       "array([[[[[0.6645621 , 0.44100678, 0.3528825 , 0.46448255, 0.03366041,\n",
       "           0.68467236, 0.74011743, 0.8724445 , 0.22632635, 0.22319686,\n",
       "           0.3103881 , 0.7223358 , 0.13318717, 0.5480639 , 0.5746088 ,\n",
       "           0.8996835 , 0.00946367, 0.5212307 , 0.6345445 , 0.1993283 ,\n",
       "           0.72942245, 0.54583454, 0.10756552, 0.6767061 , 0.6602763 ,\n",
       "           0.33695042, 0.60141766, 0.21062577, 0.8527372 , 0.44062173,\n",
       "           0.9485276 , 0.23752594, 0.81179297, 0.5263394 , 0.494308  ,\n",
       "           0.21612847, 0.8457197 , 0.8718841 , 0.3083862 , 0.6868038 ,\n",
       "           0.23764038, 0.7817228 , 0.9671384 , 0.06870162, 0.79873943,\n",
       "           0.66028714, 0.5871513 , 0.16461694, 0.7381023 , 0.32054043]]]]],\n",
       "      dtype=float32)>"
      ]
     },
     "execution_count": 7,
     "metadata": {},
     "output_type": "execute_result"
    }
   ],
   "source": [
    "tf.random.set_seed(42)\n",
    "tensor=tf.constant(tf.random.uniform(shape=[50]),shape=[1,1,1,1,50])\n",
    "\n",
    "tensor"
   ]
  },
  {
   "cell_type": "code",
   "execution_count": 8,
   "id": "cae38c2e",
   "metadata": {},
   "outputs": [
    {
     "data": {
      "text/plain": [
       "TensorShape([1, 1, 1, 1, 50])"
      ]
     },
     "execution_count": 8,
     "metadata": {},
     "output_type": "execute_result"
    }
   ],
   "source": [
    "tensor.shape"
   ]
  },
  {
   "cell_type": "code",
   "execution_count": 10,
   "id": "ae315131",
   "metadata": {},
   "outputs": [
    {
     "data": {
      "text/plain": [
       "<tf.Tensor: shape=(50,), dtype=float32, numpy=\n",
       "array([0.6645621 , 0.44100678, 0.3528825 , 0.46448255, 0.03366041,\n",
       "       0.68467236, 0.74011743, 0.8724445 , 0.22632635, 0.22319686,\n",
       "       0.3103881 , 0.7223358 , 0.13318717, 0.5480639 , 0.5746088 ,\n",
       "       0.8996835 , 0.00946367, 0.5212307 , 0.6345445 , 0.1993283 ,\n",
       "       0.72942245, 0.54583454, 0.10756552, 0.6767061 , 0.6602763 ,\n",
       "       0.33695042, 0.60141766, 0.21062577, 0.8527372 , 0.44062173,\n",
       "       0.9485276 , 0.23752594, 0.81179297, 0.5263394 , 0.494308  ,\n",
       "       0.21612847, 0.8457197 , 0.8718841 , 0.3083862 , 0.6868038 ,\n",
       "       0.23764038, 0.7817228 , 0.9671384 , 0.06870162, 0.79873943,\n",
       "       0.66028714, 0.5871513 , 0.16461694, 0.7381023 , 0.32054043],\n",
       "      dtype=float32)>"
      ]
     },
     "execution_count": 10,
     "metadata": {},
     "output_type": "execute_result"
    }
   ],
   "source": [
    "tensor_squuezed=tf.squeeze(tensor)\n",
    "\n",
    "tensor_squuezed"
   ]
  },
  {
   "cell_type": "code",
   "execution_count": 11,
   "id": "9808beff",
   "metadata": {},
   "outputs": [
    {
     "name": "stdout",
     "output_type": "stream",
     "text": [
      "tensor Before squeezing: (1, 1, 1, 1, 50)\n",
      "\n",
      "\n",
      "tensor After squeezing: (50,)\n"
     ]
    }
   ],
   "source": [
    "print(\"tensor Before squeezing:\", tensor.shape)\n",
    "print(\"\\n\")\n",
    "print(\"tensor After squeezing:\", tensor_squuezed.shape)"
   ]
  },
  {
   "cell_type": "markdown",
   "id": "7b843b14",
   "metadata": {},
   "source": [
    "# Think of it like this:\n",
    "### Squeezing is like removing empty boxes around your actual data — the data doesn’t change, just the shape becomes cleaner and more usable."
   ]
  }
 ],
 "metadata": {
  "kernelspec": {
   "display_name": "venv",
   "language": "python",
   "name": "python3"
  },
  "language_info": {
   "codemirror_mode": {
    "name": "ipython",
    "version": 3
   },
   "file_extension": ".py",
   "mimetype": "text/x-python",
   "name": "python",
   "nbconvert_exporter": "python",
   "pygments_lexer": "ipython3",
   "version": "3.7.0"
  }
 },
 "nbformat": 4,
 "nbformat_minor": 5
}
