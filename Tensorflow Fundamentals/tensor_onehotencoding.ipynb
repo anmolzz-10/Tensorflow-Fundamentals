{
 "cells": [
  {
   "cell_type": "code",
   "execution_count": 1,
   "id": "de7b5f94",
   "metadata": {},
   "outputs": [],
   "source": [
    "import tensorflow as tf"
   ]
  },
  {
   "cell_type": "markdown",
   "id": "3eba659b",
   "metadata": {},
   "source": [
    "**One-hot encoding** is a method of representing **categorical data** (like labels or categories) as **binary vectors**.\n",
    "\n",
    "### ✅ How it works:\n",
    "\n",
    "* Suppose you have 3 classes: **cat**, **dog**, and **rabbit**\n",
    "* First, assign each class a unique integer:\n",
    "\n",
    "  * `cat → 0`\n",
    "  * `dog → 1`\n",
    "  * `rabbit → 2`\n",
    "* Then convert each integer into a vector where:\n",
    "\n",
    "  * The vector length equals the number of classes\n",
    "  * All elements are 0 **except** the one at the index of the class, which is 1\n",
    "\n",
    "### 🔹 Example:\n",
    "\n",
    "| Label  | One-Hot Vector |\n",
    "| ------ | -------------- |\n",
    "| cat    | \\[1, 0, 0]     |\n",
    "| dog    | \\[0, 1, 0]     |\n",
    "| rabbit | \\[0, 0, 1]     |\n",
    "\n",
    "---\n",
    "\n",
    "### 🎯 Why use it?\n",
    "\n",
    "* Algorithms work with numbers, not text\n",
    "* One-hot avoids implying **any order or hierarchy** between categories"
   ]
  },
  {
   "cell_type": "code",
   "execution_count": 5,
   "id": "79246d1f",
   "metadata": {},
   "outputs": [
    {
     "data": {
      "text/plain": [
       "<tf.Tensor: shape=(4, 4), dtype=float32, numpy=\n",
       "array([[1., 0., 0., 0.],\n",
       "       [0., 1., 0., 0.],\n",
       "       [0., 0., 1., 0.],\n",
       "       [0., 0., 0., 1.]], dtype=float32)>"
      ]
     },
     "execution_count": 5,
     "metadata": {},
     "output_type": "execute_result"
    }
   ],
   "source": [
    "# Create a list of indices\n",
    "lst=[0,1,2,3]\n",
    "\n",
    "tf.one_hot(indices=lst,depth=4)"
   ]
  },
  {
   "cell_type": "code",
   "execution_count": null,
   "id": "8a0f1818",
   "metadata": {},
   "outputs": [],
   "source": []
  }
 ],
 "metadata": {
  "kernelspec": {
   "display_name": "venv",
   "language": "python",
   "name": "python3"
  },
  "language_info": {
   "codemirror_mode": {
    "name": "ipython",
    "version": 3
   },
   "file_extension": ".py",
   "mimetype": "text/x-python",
   "name": "python",
   "nbconvert_exporter": "python",
   "pygments_lexer": "ipython3",
   "version": "3.7.0"
  }
 },
 "nbformat": 4,
 "nbformat_minor": 5
}
