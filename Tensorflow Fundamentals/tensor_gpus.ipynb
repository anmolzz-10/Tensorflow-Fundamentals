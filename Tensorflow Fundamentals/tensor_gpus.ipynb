{
 "cells": [
  {
   "cell_type": "markdown",
   "id": "fa23563b",
   "metadata": {
    "vscode": {
     "languageId": "plaintext"
    }
   },
   "source": [
    "### 🧠 **CPU** (Central Processing Unit)\n",
    "\n",
    "* General-purpose processor\n",
    "* Good for basic tasks and small models\n",
    "* Slow for deep learning training\n",
    "\n",
    "### 🚀 **GPU** (Graphics Processing Unit)\n",
    "\n",
    "* Designed for fast, parallel computing\n",
    "* Much faster than CPU for training deep learning models\n",
    "* Commonly used in AI tasks\n",
    "\n",
    "### ⚡ **TPU** (Tensor Processing Unit)\n",
    "\n",
    "* Special chip made by Google just for deep learning\n",
    "* Even faster than GPUs for large models\n",
    "* Mostly used in Google Cloud or research\n",
    "\n",
    "### 🎯 In short:\n",
    "\n",
    "* **Use CPU** for small/simple tasks\n",
    "* **Use GPU** for fast training and inference\n",
    "* **Use TPU** for very large models and high-speed training in the cloud\n"
   ]
  },
  {
   "cell_type": "code",
   "execution_count": 1,
   "id": "ef47001c",
   "metadata": {},
   "outputs": [],
   "source": [
    "import tensorflow as tf"
   ]
  },
  {
   "cell_type": "markdown",
   "id": "74b7fe08",
   "metadata": {},
   "source": [
    "# Check if TensorFlow can access GPUs"
   ]
  },
  {
   "cell_type": "code",
   "execution_count": null,
   "id": "ba04d8e3",
   "metadata": {},
   "outputs": [
    {
     "data": {
      "text/plain": [
       "[PhysicalDevice(name='/physical_device:CPU:0', device_type='CPU'),\n",
       " PhysicalDevice(name='/physical_device:XLA_CPU:0', device_type='XLA_CPU')]"
      ]
     },
     "execution_count": 3,
     "metadata": {},
     "output_type": "execute_result"
    }
   ],
   "source": [
    "tf.config.list_physical_devices() "
   ]
  },
  {
   "cell_type": "code",
   "execution_count": 4,
   "id": "8caf45aa",
   "metadata": {},
   "outputs": [
    {
     "data": {
      "text/plain": [
       "[PhysicalDevice(name='/physical_device:CPU:0', device_type='CPU')]"
      ]
     },
     "execution_count": 4,
     "metadata": {},
     "output_type": "execute_result"
    }
   ],
   "source": [
    "# If you have only CPU\n",
    "\n",
    "tf.config.list_physical_devices(\"CPU\") "
   ]
  },
  {
   "cell_type": "code",
   "execution_count": 5,
   "id": "1afd88f0",
   "metadata": {},
   "outputs": [
    {
     "data": {
      "text/plain": [
       "[]"
      ]
     },
     "execution_count": 5,
     "metadata": {},
     "output_type": "execute_result"
    }
   ],
   "source": [
    "# If you have a GPU \n",
    "tf.config.list_physical_devices(\"GPU\")\n",
    "\n",
    "# outputs \n",
    "# [PhysicalDevice(name='/physical_device:GPU:0', device_type='GPU')]"
   ]
  }
 ],
 "metadata": {
  "kernelspec": {
   "display_name": "venv",
   "language": "python",
   "name": "python3"
  },
  "language_info": {
   "codemirror_mode": {
    "name": "ipython",
    "version": 3
   },
   "file_extension": ".py",
   "mimetype": "text/x-python",
   "name": "python",
   "nbconvert_exporter": "python",
   "pygments_lexer": "ipython3",
   "version": "3.7.0"
  }
 },
 "nbformat": 4,
 "nbformat_minor": 5
}
