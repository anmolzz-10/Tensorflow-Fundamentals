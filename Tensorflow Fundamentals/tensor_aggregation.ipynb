{
 "cells": [
  {
   "cell_type": "markdown",
   "id": "1d0bedd9",
   "metadata": {},
   "source": [
    "# Aggregating tensors\n",
    "\n",
    "### **Tensor aggregation** is the process of combining multiple tensor values into a single tensor using operations like sum, mean, or concatenation.\n"
   ]
  },
  {
   "cell_type": "code",
   "execution_count": 1,
   "id": "8f00b7dd",
   "metadata": {},
   "outputs": [],
   "source": [
    "import tensorflow as tf"
   ]
  },
  {
   "cell_type": "code",
   "execution_count": 2,
   "id": "2b0e7c50",
   "metadata": {},
   "outputs": [
    {
     "data": {
      "text/plain": [
       "<tf.Tensor: shape=(2,), dtype=int32, numpy=array([ -7, -10])>"
      ]
     },
     "execution_count": 2,
     "metadata": {},
     "output_type": "execute_result"
    }
   ],
   "source": [
    "# get the absolute  value\n",
    "\n",
    "tensor=tf.constant([-7,-10])\n",
    "\n",
    "tensor"
   ]
  },
  {
   "cell_type": "code",
   "execution_count": 3,
   "id": "5d18dce0",
   "metadata": {},
   "outputs": [
    {
     "data": {
      "text/plain": [
       "<tf.Tensor: shape=(2,), dtype=int32, numpy=array([ 7, 10])>"
      ]
     },
     "execution_count": 3,
     "metadata": {},
     "output_type": "execute_result"
    }
   ],
   "source": [
    "tf.abs(tensor)"
   ]
  },
  {
   "cell_type": "markdown",
   "id": "561b024b",
   "metadata": {},
   "source": [
    "# Element-wise aggregation\n",
    "\n",
    "#### Aggregating values across dimensions using operations like:\n",
    "\n",
    "* sum(): Sum all or specific dimensions.\n",
    "\n",
    "* mean(): Average values along certain axes.\n",
    "\n",
    "* max() / min(): Find maximum/minimum values."
   ]
  },
  {
   "cell_type": "code",
   "execution_count": 4,
   "id": "06c5f411",
   "metadata": {},
   "outputs": [
    {
     "data": {
      "text/plain": [
       "<tf.Tensor: shape=(50,), dtype=int32, numpy=\n",
       "array([45, 55,  7, 32, 94, 38, 86, 65, 74,  5, 20, 92, 12,  5, 68, 73, 42,\n",
       "       97, 65, 98, 22, 66, 77, 90, 11, 62, 97,  1, 27, 51, 69, 36, 35, 77,\n",
       "       14, 88,  2, 70, 91, 34,  6, 16,  5, 14, 60, 27, 77,  5, 85, 50])>"
      ]
     },
     "execution_count": 4,
     "metadata": {},
     "output_type": "execute_result"
    }
   ],
   "source": [
    "# Create a tensor with random values between 1 to 100 of size 50\n",
    "import numpy as np \n",
    "np_arr=np.random.randint(low=1,high=100,size=50)\n",
    "tensor=tf.constant(np_arr)\n",
    "\n",
    "tensor"
   ]
  },
  {
   "cell_type": "code",
   "execution_count": 5,
   "id": "158e9b76",
   "metadata": {},
   "outputs": [
    {
     "data": {
      "text/plain": [
       "(TensorShape([50]), 1, <tf.Tensor: shape=(), dtype=int32, numpy=50>)"
      ]
     },
     "execution_count": 5,
     "metadata": {},
     "output_type": "execute_result"
    }
   ],
   "source": [
    "tensor.shape,tensor.ndim,tf.size(tensor)"
   ]
  },
  {
   "cell_type": "code",
   "execution_count": 6,
   "id": "6855873f",
   "metadata": {},
   "outputs": [
    {
     "data": {
      "text/plain": [
       "<tf.Tensor: shape=(), dtype=int32, numpy=1>"
      ]
     },
     "execution_count": 6,
     "metadata": {},
     "output_type": "execute_result"
    }
   ],
   "source": [
    "# finding the minimum\n",
    "tf.reduce_min(input_tensor=tensor,name=\"min value in tensor ## optional\")"
   ]
  },
  {
   "cell_type": "code",
   "execution_count": 7,
   "id": "06bc085c",
   "metadata": {},
   "outputs": [
    {
     "data": {
      "text/plain": [
       "<tf.Tensor: shape=(), dtype=int32, numpy=98>"
      ]
     },
     "execution_count": 7,
     "metadata": {},
     "output_type": "execute_result"
    }
   ],
   "source": [
    "# finding maximu \n",
    "tf.reduce_max(tensor)"
   ]
  },
  {
   "cell_type": "code",
   "execution_count": 8,
   "id": "2209a642",
   "metadata": {},
   "outputs": [
    {
     "data": {
      "text/plain": [
       "<tf.Tensor: shape=(), dtype=int32, numpy=48>"
      ]
     },
     "execution_count": 8,
     "metadata": {},
     "output_type": "execute_result"
    }
   ],
   "source": [
    "#finding the mean \n",
    "tf.reduce_mean(tensor)"
   ]
  },
  {
   "cell_type": "code",
   "execution_count": 9,
   "id": "ac5c418e",
   "metadata": {},
   "outputs": [
    {
     "data": {
      "text/plain": [
       "<tf.Tensor: shape=(), dtype=int32, numpy=2438>"
      ]
     },
     "execution_count": 9,
     "metadata": {},
     "output_type": "execute_result"
    }
   ],
   "source": [
    "tf.reduce_sum(tensor)"
   ]
  },
  {
   "cell_type": "code",
   "execution_count": 10,
   "id": "b1750612",
   "metadata": {},
   "outputs": [
    {
     "data": {
      "text/plain": [
       "<tf.Tensor: shape=(50,), dtype=int32, numpy=\n",
       "array([45, 55,  7, 32, 94, 38, 86, 65, 74,  5, 20, 92, 12,  5, 68, 73, 42,\n",
       "       97, 65, 98, 22, 66, 77, 90, 11, 62, 97,  1, 27, 51, 69, 36, 35, 77,\n",
       "       14, 88,  2, 70, 91, 34,  6, 16,  5, 14, 60, 27, 77,  5, 85, 50])>"
      ]
     },
     "execution_count": 10,
     "metadata": {},
     "output_type": "execute_result"
    }
   ],
   "source": [
    "tensor"
   ]
  },
  {
   "cell_type": "code",
   "execution_count": 11,
   "id": "088e0b0d",
   "metadata": {},
   "outputs": [
    {
     "data": {
      "text/plain": [
       "<tf.Tensor: shape=(2, 2), dtype=int32, numpy=\n",
       "array([[1, 2],\n",
       "       [3, 4]])>"
      ]
     },
     "execution_count": 11,
     "metadata": {},
     "output_type": "execute_result"
    }
   ],
   "source": [
    "a = tf.constant([[1, 2]])\n",
    "b = tf.constant([[3, 4]])\n",
    "\n",
    "tf.concat([a,b],axis=0)  "
   ]
  },
  {
   "cell_type": "code",
   "execution_count": 12,
   "id": "412c610d",
   "metadata": {},
   "outputs": [
    {
     "data": {
      "text/plain": [
       "<tf.Tensor: shape=(2, 1, 2), dtype=int32, numpy=\n",
       "array([[[1, 2]],\n",
       "\n",
       "       [[3, 4]]])>"
      ]
     },
     "execution_count": 12,
     "metadata": {},
     "output_type": "execute_result"
    }
   ],
   "source": [
    "tf.stack([a,b],axis=0)"
   ]
  },
  {
   "cell_type": "markdown",
   "id": "81be635d",
   "metadata": {},
   "source": [
    "\n",
    "\n",
    "### 🔹 `tf.concat`: **Joins tensors along an existing axis**\n",
    "\n",
    "* **Does not add a new dimension**\n",
    "* Requires tensors to have the **same shape except** along the concatenation axis.\n",
    "\n",
    "### 🔹 `tf.stack`: **Stacks tensors along a new axis**\n",
    "\n",
    "* **Adds a new dimension**\n",
    "* Requires all tensors to have **exactly the same shape**\n",
    "\n",
    "### ✅ Summary\n",
    "\n",
    "| Operation   | Adds new dimension? | Output shape (for a, b shape (1, 2)) |\n",
    "| ----------- | ------------------- | ------------------------------------ |\n",
    "| `tf.concat` | ❌ No                | `(2, 2)`                             |\n",
    "| `tf.stack`  | ✅ Yes               | `(2, 1, 2)`                          |\n",
    "\n",
    "Use:\n",
    "\n",
    "* `concat` when you want to **combine** tensors *without changing the rank*.\n",
    "* `stack` when you want to **group** tensors into a higher-dimensional tensor.\n"
   ]
  },
  {
   "cell_type": "code",
   "execution_count": 20,
   "id": "69ac74f5",
   "metadata": {},
   "outputs": [
    {
     "data": {
      "text/plain": [
       "<tf.Tensor: shape=(50,), dtype=int32, numpy=\n",
       "array([45, 55,  7, 32, 94, 38, 86, 65, 74,  5, 20, 92, 12,  5, 68, 73, 42,\n",
       "       97, 65, 98, 22, 66, 77, 90, 11, 62, 97,  1, 27, 51, 69, 36, 35, 77,\n",
       "       14, 88,  2, 70, 91, 34,  6, 16,  5, 14, 60, 27, 77,  5, 85, 50])>"
      ]
     },
     "execution_count": 20,
     "metadata": {},
     "output_type": "execute_result"
    }
   ],
   "source": [
    "tensor"
   ]
  },
  {
   "cell_type": "code",
   "execution_count": 21,
   "id": "8f7e6088",
   "metadata": {},
   "outputs": [
    {
     "data": {
      "text/plain": [
       "<tf.Tensor: shape=(50,), dtype=float16, numpy=\n",
       "array([45., 55.,  7., 32., 94., 38., 86., 65., 74.,  5., 20., 92., 12.,\n",
       "        5., 68., 73., 42., 97., 65., 98., 22., 66., 77., 90., 11., 62.,\n",
       "       97.,  1., 27., 51., 69., 36., 35., 77., 14., 88.,  2., 70., 91.,\n",
       "       34.,  6., 16.,  5., 14., 60., 27., 77.,  5., 85., 50.],\n",
       "      dtype=float16)>"
      ]
     },
     "execution_count": 21,
     "metadata": {},
     "output_type": "execute_result"
    }
   ],
   "source": [
    "float_tensor=tf.cast(x=tensor,dtype=tf.float16)\n",
    "\n",
    "float_tensor"
   ]
  },
  {
   "cell_type": "code",
   "execution_count": 22,
   "id": "b8814f3f",
   "metadata": {},
   "outputs": [
    {
     "data": {
      "text/plain": [
       "<tf.Tensor: shape=(), dtype=float16, numpy=31.7>"
      ]
     },
     "execution_count": 22,
     "metadata": {},
     "output_type": "execute_result"
    }
   ],
   "source": [
    "tf.math.reduce_std(float_tensor)"
   ]
  },
  {
   "cell_type": "code",
   "execution_count": 23,
   "id": "dc7db967",
   "metadata": {},
   "outputs": [
    {
     "data": {
      "text/plain": [
       "<tf.Tensor: shape=(), dtype=float16, numpy=1005.0>"
      ]
     },
     "execution_count": 23,
     "metadata": {},
     "output_type": "execute_result"
    }
   ],
   "source": [
    "tf.math.reduce_variance(float_tensor)"
   ]
  },
  {
   "cell_type": "code",
   "execution_count": null,
   "id": "cd353c05",
   "metadata": {},
   "outputs": [],
   "source": []
  }
 ],
 "metadata": {
  "kernelspec": {
   "display_name": "venv",
   "language": "python",
   "name": "python3"
  },
  "language_info": {
   "codemirror_mode": {
    "name": "ipython",
    "version": 3
   },
   "file_extension": ".py",
   "mimetype": "text/x-python",
   "name": "python",
   "nbconvert_exporter": "python",
   "pygments_lexer": "ipython3",
   "version": "3.7.0"
  }
 },
 "nbformat": 4,
 "nbformat_minor": 5
}
