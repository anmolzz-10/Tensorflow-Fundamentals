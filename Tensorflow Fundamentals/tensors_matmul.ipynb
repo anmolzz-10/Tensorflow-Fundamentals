{
 "cells": [
  {
   "cell_type": "markdown",
   "id": "fe80a381",
   "metadata": {},
   "source": [
    "# Matrix Multiplication"
   ]
  },
  {
   "cell_type": "code",
   "execution_count": 1,
   "id": "fa0aa985",
   "metadata": {},
   "outputs": [],
   "source": [
    "import tensorflow as tf"
   ]
  },
  {
   "cell_type": "code",
   "execution_count": 2,
   "id": "2781f1b5",
   "metadata": {},
   "outputs": [
    {
     "data": {
      "text/plain": [
       "<tf.Tensor: shape=(2, 2), dtype=int32, numpy=\n",
       "array([[1, 2],\n",
       "       [3, 4]])>"
      ]
     },
     "execution_count": 2,
     "metadata": {},
     "output_type": "execute_result"
    }
   ],
   "source": [
    "tensor=tf.constant([[1,2],[3,4]])\n",
    "\n",
    "tensor"
   ]
  },
  {
   "cell_type": "code",
   "execution_count": 3,
   "id": "e4fd491f",
   "metadata": {},
   "outputs": [
    {
     "data": {
      "text/plain": [
       "<tf.Tensor: shape=(2, 2), dtype=int32, numpy=\n",
       "array([[ 7, 10],\n",
       "       [15, 22]])>"
      ]
     },
     "execution_count": 3,
     "metadata": {},
     "output_type": "execute_result"
    }
   ],
   "source": [
    "tf.linalg.matmul(tensor, tensor)"
   ]
  },
  {
   "cell_type": "code",
   "execution_count": 4,
   "id": "559b56a4",
   "metadata": {},
   "outputs": [
    {
     "data": {
      "text/plain": [
       "<tf.Tensor: shape=(2, 2), dtype=int32, numpy=\n",
       "array([[ 7, 10],\n",
       "       [15, 22]])>"
      ]
     },
     "execution_count": 4,
     "metadata": {},
     "output_type": "execute_result"
    }
   ],
   "source": [
    "# or we can also do like this\n",
    "tf.matmul(tensor, tensor)"
   ]
  },
  {
   "cell_type": "markdown",
   "id": "f61afc6b",
   "metadata": {},
   "source": [
    "# Normal pythonic multiplication"
   ]
  },
  {
   "cell_type": "code",
   "execution_count": 5,
   "id": "1649712d",
   "metadata": {},
   "outputs": [
    {
     "data": {
      "text/plain": [
       "<tf.Tensor: shape=(2, 2), dtype=int32, numpy=\n",
       "array([[1, 2],\n",
       "       [3, 4]])>"
      ]
     },
     "execution_count": 5,
     "metadata": {},
     "output_type": "execute_result"
    }
   ],
   "source": [
    "tensor"
   ]
  },
  {
   "cell_type": "code",
   "execution_count": 6,
   "id": "6768aab6",
   "metadata": {},
   "outputs": [
    {
     "data": {
      "text/plain": [
       "<tf.Tensor: shape=(2, 2), dtype=int32, numpy=\n",
       "array([[ 1,  4],\n",
       "       [ 9, 16]])>"
      ]
     },
     "execution_count": 6,
     "metadata": {},
     "output_type": "execute_result"
    }
   ],
   "source": [
    "tensor * tensor"
   ]
  },
  {
   "cell_type": "code",
   "execution_count": 7,
   "id": "e8f113d4",
   "metadata": {},
   "outputs": [
    {
     "data": {
      "text/plain": [
       "<tf.Tensor: shape=(3, 2), dtype=float32, numpy=\n",
       "array([[0.7528134 , 0.25076392],\n",
       "       [0.52230597, 0.18152693],\n",
       "       [0.92123383, 0.66232693]], dtype=float32)>"
      ]
     },
     "execution_count": 7,
     "metadata": {},
     "output_type": "execute_result"
    }
   ],
   "source": [
    "# Practise \n",
    "mat1=tf.random.uniform(shape=(3,3))\n",
    "mat2=tf.random.uniform(shape=(3,2))\n",
    "\n",
    "tf.matmul(mat1, mat2)"
   ]
  },
  {
   "cell_type": "markdown",
   "id": "3de4d1ba",
   "metadata": {},
   "source": [
    "# Matrix multiplication with python "
   ]
  },
  {
   "cell_type": "code",
   "execution_count": 8,
   "id": "03db4216",
   "metadata": {},
   "outputs": [
    {
     "data": {
      "text/plain": [
       "<tf.Tensor: shape=(2, 2), dtype=int32, numpy=\n",
       "array([[1, 2],\n",
       "       [3, 4]])>"
      ]
     },
     "execution_count": 8,
     "metadata": {},
     "output_type": "execute_result"
    }
   ],
   "source": [
    "tensor"
   ]
  },
  {
   "cell_type": "code",
   "execution_count": 9,
   "id": "846934a5",
   "metadata": {},
   "outputs": [
    {
     "data": {
      "text/plain": [
       "<tf.Tensor: shape=(2, 2), dtype=int32, numpy=\n",
       "array([[ 7, 10],\n",
       "       [15, 22]])>"
      ]
     },
     "execution_count": 9,
     "metadata": {},
     "output_type": "execute_result"
    }
   ],
   "source": [
    "tensor @ tensor"
   ]
  },
  {
   "cell_type": "code",
   "execution_count": 10,
   "id": "b3ff51c1",
   "metadata": {},
   "outputs": [
    {
     "data": {
      "text/plain": [
       "<tf.Tensor: shape=(2, 2), dtype=int32, numpy=\n",
       "array([[ 7, 10],\n",
       "       [15, 22]])>"
      ]
     },
     "execution_count": 10,
     "metadata": {},
     "output_type": "execute_result"
    }
   ],
   "source": [
    "tf.matmul(tensor, tensor)"
   ]
  },
  {
   "cell_type": "markdown",
   "id": "0eb78cde",
   "metadata": {},
   "source": [
    "# wrong way of doing matrix multiplication"
   ]
  },
  {
   "cell_type": "code",
   "execution_count": 11,
   "id": "26465477",
   "metadata": {},
   "outputs": [
    {
     "name": "stdout",
     "output_type": "stream",
     "text": [
      "Error: Matrix size-incompatible: In[0]: [3,2], In[1]: [3,2] [Op:MatMul]\n"
     ]
    }
   ],
   "source": [
    "# Practise \n",
    "mat1=tf.random.uniform(shape=(3,2))\n",
    "mat2=tf.random.uniform(shape=(3,2))\n",
    "\n",
    "try:\n",
    "    tf.matmul(mat1, mat2)\n",
    "except Exception as e:\n",
    "    print(f\"Error: {e}\")"
   ]
  },
  {
   "cell_type": "markdown",
   "id": "2a813d51",
   "metadata": {},
   "source": [
    "| Rule                                                \n",
    "| --------------------------------------------------- \n",
    "| Only multiply A×B if A's **columns** = B's **rows**             \n",
    "| Result shape = (A.rows, B.columns)                               \n",
    "| Not commutative: A×B ≠ B×A (in general)             \n"
   ]
  },
  {
   "cell_type": "code",
   "execution_count": 12,
   "id": "1ff5c6fa",
   "metadata": {},
   "outputs": [
    {
     "data": {
      "text/plain": [
       "(TensorShape([3, 2]), TensorShape([3, 2]))"
      ]
     },
     "execution_count": 12,
     "metadata": {},
     "output_type": "execute_result"
    }
   ],
   "source": [
    "mat1.shape, mat2.shape"
   ]
  },
  {
   "cell_type": "code",
   "execution_count": 13,
   "id": "f3f4de5b",
   "metadata": {},
   "outputs": [
    {
     "data": {
      "text/plain": [
       "<tf.Tensor: shape=(3, 2), dtype=float32, numpy=\n",
       "array([[0.13735008, 0.73242784],\n",
       "       [0.598217  , 0.03856826],\n",
       "       [0.9831606 , 0.5095209 ]], dtype=float32)>"
      ]
     },
     "execution_count": 13,
     "metadata": {},
     "output_type": "execute_result"
    }
   ],
   "source": [
    "mat2"
   ]
  },
  {
   "cell_type": "code",
   "execution_count": 14,
   "id": "006ba915",
   "metadata": {},
   "outputs": [
    {
     "data": {
      "text/plain": [
       "<tf.Tensor: shape=(2, 3), dtype=float32, numpy=\n",
       "array([[0.13735008, 0.73242784, 0.598217  ],\n",
       "       [0.03856826, 0.9831606 , 0.5095209 ]], dtype=float32)>"
      ]
     },
     "execution_count": 14,
     "metadata": {},
     "output_type": "execute_result"
    }
   ],
   "source": [
    "#Lets change the shape of mat2\n",
    "\n",
    "tf.reshape(mat2, shape=(2,3))"
   ]
  },
  {
   "cell_type": "code",
   "execution_count": 15,
   "id": "35b279bb",
   "metadata": {},
   "outputs": [
    {
     "data": {
      "text/plain": [
       "(TensorShape([3, 2]), TensorShape([2, 3]))"
      ]
     },
     "execution_count": 15,
     "metadata": {},
     "output_type": "execute_result"
    }
   ],
   "source": [
    "mat1.shape,tf.reshape(mat2, shape=(2,3)).shape"
   ]
  },
  {
   "cell_type": "code",
   "execution_count": 16,
   "id": "56322afa",
   "metadata": {},
   "outputs": [
    {
     "data": {
      "text/plain": [
       "<tf.Tensor: shape=(3, 3), dtype=float32, numpy=\n",
       "array([[0.11123803, 0.95434   , 0.6431382 ],\n",
       "       [0.09981803, 0.62927914, 0.4773568 ],\n",
       "       [0.11739418, 1.2991333 , 0.80699205]], dtype=float32)>"
      ]
     },
     "execution_count": 16,
     "metadata": {},
     "output_type": "execute_result"
    }
   ],
   "source": [
    "# Now can we do matmul\n",
    "tf.matmul(mat1,tf.reshape(mat2, shape=(2,3)))"
   ]
  },
  {
   "cell_type": "code",
   "execution_count": 17,
   "id": "f35c045d",
   "metadata": {},
   "outputs": [
    {
     "data": {
      "text/plain": [
       "(TensorShape([3, 2]), TensorShape([3, 2]))"
      ]
     },
     "execution_count": 17,
     "metadata": {},
     "output_type": "execute_result"
    }
   ],
   "source": [
    "mat1.shape, mat2.shape"
   ]
  },
  {
   "cell_type": "code",
   "execution_count": 18,
   "id": "16552159",
   "metadata": {},
   "outputs": [
    {
     "data": {
      "text/plain": [
       "<tf.Tensor: shape=(3, 3), dtype=float32, numpy=\n",
       "array([[0.18469387, 0.51175416, 0.72911257],\n",
       "       [0.41127008, 0.30146846, 0.4471842 ],\n",
       "       [0.73157203, 0.76831496, 1.1211855 ]], dtype=float32)>"
      ]
     },
     "execution_count": 18,
     "metadata": {},
     "output_type": "execute_result"
    }
   ],
   "source": [
    "tf.matmul(mat2, tf.reshape(mat1, shape=(2,3)))"
   ]
  },
  {
   "cell_type": "markdown",
   "id": "48dd1207",
   "metadata": {},
   "source": [
    "# Transpose of a tensor"
   ]
  },
  {
   "cell_type": "code",
   "execution_count": 19,
   "id": "c4987c0d",
   "metadata": {},
   "outputs": [
    {
     "data": {
      "text/plain": [
       "<tf.Tensor: shape=(3, 2), dtype=float32, numpy=\n",
       "array([[0.67945015, 0.4645139 ],\n",
       "       [0.6917112 , 0.12475133],\n",
       "       [0.6116004 , 0.865759  ]], dtype=float32)>"
      ]
     },
     "execution_count": 19,
     "metadata": {},
     "output_type": "execute_result"
    }
   ],
   "source": [
    "mat1"
   ]
  },
  {
   "cell_type": "code",
   "execution_count": 20,
   "id": "953d990e",
   "metadata": {},
   "outputs": [
    {
     "data": {
      "text/plain": [
       "<tf.Tensor: shape=(2, 3), dtype=float32, numpy=\n",
       "array([[0.67945015, 0.6917112 , 0.6116004 ],\n",
       "       [0.4645139 , 0.12475133, 0.865759  ]], dtype=float32)>"
      ]
     },
     "execution_count": 20,
     "metadata": {},
     "output_type": "execute_result"
    }
   ],
   "source": [
    "# Transpose just flips the axes of the matrix\n",
    "tf.transpose(mat1)"
   ]
  },
  {
   "cell_type": "code",
   "execution_count": 21,
   "id": "ac2f58ce",
   "metadata": {},
   "outputs": [
    {
     "data": {
      "text/plain": [
       "<tf.Tensor: shape=(2, 3), dtype=float32, numpy=\n",
       "array([[0.67945015, 0.4645139 , 0.6917112 ],\n",
       "       [0.12475133, 0.6116004 , 0.865759  ]], dtype=float32)>"
      ]
     },
     "execution_count": 21,
     "metadata": {},
     "output_type": "execute_result"
    }
   ],
   "source": [
    "tf.reshape(mat1, shape=(2,3))"
   ]
  },
  {
   "cell_type": "code",
   "execution_count": 22,
   "id": "18ff8674",
   "metadata": {},
   "outputs": [
    {
     "data": {
      "text/plain": [
       "<tf.Tensor: shape=(2, 2), dtype=float32, numpy=\n",
       "array([[1.1084173 , 0.83594954],\n",
       "       [0.98960954, 0.78615665]], dtype=float32)>"
      ]
     },
     "execution_count": 22,
     "metadata": {},
     "output_type": "execute_result"
    }
   ],
   "source": [
    "tf.linalg.matmul(tf.transpose(mat1), mat2)"
   ]
  },
  {
   "cell_type": "markdown",
   "id": "03553a19",
   "metadata": {},
   "source": [
    "### using tf.matmult() or tf.linalg.matmul() is the same"
   ]
  },
  {
   "cell_type": "markdown",
   "id": "1cef3efd",
   "metadata": {},
   "source": [
    "# We Can Perform matrix multiplication with tf.matmul() or tf.tensordot() or @ operator"
   ]
  },
  {
   "cell_type": "code",
   "execution_count": 26,
   "id": "a2a2f515",
   "metadata": {},
   "outputs": [
    {
     "name": "stdout",
     "output_type": "stream",
     "text": [
      "Matrix 1 : tf.Tensor(\n",
      "[[0.67945015 0.4645139 ]\n",
      " [0.6917112  0.12475133]\n",
      " [0.6116004  0.865759  ]], shape=(3, 2), dtype=float32)\n",
      "\n",
      "\n",
      "Matrix 2 : tf.Tensor(\n",
      "[[0.13735008 0.73242784]\n",
      " [0.598217   0.03856826]\n",
      " [0.9831606  0.5095209 ]], shape=(3, 2), dtype=float32)\n",
      "\n",
      "\n"
     ]
    }
   ],
   "source": [
    "print(\"Matrix 1 :\",mat1)\n",
    "print(\"\\n\")\n",
    "print(\"Matrix 2 :\",mat2)\n",
    "print(\"\\n\")"
   ]
  },
  {
   "cell_type": "code",
   "execution_count": 27,
   "id": "84db3721",
   "metadata": {},
   "outputs": [
    {
     "data": {
      "text/plain": [
       "<tf.Tensor: shape=(2, 2), dtype=float32, numpy=\n",
       "array([[1.1084173 , 0.83594954],\n",
       "       [0.98960954, 0.78615665]], dtype=float32)>"
      ]
     },
     "execution_count": 27,
     "metadata": {},
     "output_type": "execute_result"
    }
   ],
   "source": [
    "tf.matmul(tf.transpose(mat1), mat2)"
   ]
  },
  {
   "cell_type": "code",
   "execution_count": 28,
   "id": "360b95ea",
   "metadata": {},
   "outputs": [
    {
     "data": {
      "text/plain": [
       "<tf.Tensor: shape=(2, 2), dtype=float32, numpy=\n",
       "array([[1.0512658 , 0.86800504],\n",
       "       [1.2341845 , 0.556082  ]], dtype=float32)>"
      ]
     },
     "execution_count": 28,
     "metadata": {},
     "output_type": "execute_result"
    }
   ],
   "source": [
    "tf.matmul(tf.reshape(mat1, shape=(2,3)), mat2)"
   ]
  },
  {
   "cell_type": "markdown",
   "id": "fdf224a7",
   "metadata": {},
   "source": [
    "#### generally when performing matrix multiplication on two tensors and one of the axes doesn't line up ,you will transpose rather than reshape one of the tensors to get satisfy matrix multiplication rules."
   ]
  }
 ],
 "metadata": {
  "kernelspec": {
   "display_name": "venv",
   "language": "python",
   "name": "python3"
  },
  "language_info": {
   "codemirror_mode": {
    "name": "ipython",
    "version": 3
   },
   "file_extension": ".py",
   "mimetype": "text/x-python",
   "name": "python",
   "nbconvert_exporter": "python",
   "pygments_lexer": "ipython3",
   "version": "3.7.0"
  }
 },
 "nbformat": 4,
 "nbformat_minor": 5
}
