{
 "cells": [
  {
   "cell_type": "code",
   "execution_count": 1,
   "id": "a5cb5719",
   "metadata": {},
   "outputs": [],
   "source": [
    "import tensorflow as tf"
   ]
  },
  {
   "cell_type": "markdown",
   "id": "b3e04230",
   "metadata": {},
   "source": [
    "# Creating random tensors"
   ]
  },
  {
   "cell_type": "code",
   "execution_count": 2,
   "id": "f4c175bc",
   "metadata": {},
   "outputs": [
    {
     "data": {
      "text/plain": [
       "<tf.Tensor: shape=(3, 2), dtype=float32, numpy=\n",
       "array([[0.41809726, 0.7713686 ],\n",
       "       [0.51398504, 0.925365  ],\n",
       "       [0.06742084, 0.47254312]], dtype=float32)>"
      ]
     },
     "execution_count": 2,
     "metadata": {},
     "output_type": "execute_result"
    }
   ],
   "source": [
    "random_tensor=tf.random.uniform(shape=(3,2))\n",
    "random_tensor"
   ]
  },
  {
   "cell_type": "code",
   "execution_count": 3,
   "id": "2ce69e08",
   "metadata": {},
   "outputs": [
    {
     "data": {
      "text/plain": [
       "<tf.Tensor: shape=(3, 2), dtype=bool, numpy=\n",
       "array([[ True,  True],\n",
       "       [ True,  True],\n",
       "       [ True,  True]])>"
      ]
     },
     "execution_count": 3,
     "metadata": {},
     "output_type": "execute_result"
    }
   ],
   "source": [
    "# create a random tensor\n",
    "#tf.random.set_seed(42) # set seed for reproducibility\n",
    "random_1=tf.random.Generator.from_seed(42)\n",
    "random_1=random_1.uniform(shape=(3,2))\n",
    "\n",
    "random_2=tf.random.Generator.from_seed(42)\n",
    "random_2=random_2.uniform(shape=(3,2))\n",
    "\n",
    "random_1==random_2"
   ]
  },
  {
   "cell_type": "code",
   "execution_count": 4,
   "id": "29fe9d5a",
   "metadata": {},
   "outputs": [
    {
     "data": {
      "text/plain": [
       "(<tf.Tensor: shape=(3, 2), dtype=float32, numpy=\n",
       " array([[0.6645621 , 0.44100678],\n",
       "        [0.3528825 , 0.46448255],\n",
       "        [0.03366041, 0.68467236]], dtype=float32)>,\n",
       " <tf.Tensor: shape=(3, 2), dtype=float32, numpy=\n",
       " array([[0.6645621 , 0.44100678],\n",
       "        [0.3528825 , 0.46448255],\n",
       "        [0.03366041, 0.68467236]], dtype=float32)>)"
      ]
     },
     "execution_count": 4,
     "metadata": {},
     "output_type": "execute_result"
    }
   ],
   "source": [
    "tf.random.set_seed(42)\n",
    "random_3=tf.random.uniform(shape=(3,2))\n",
    "tf.random.set_seed(42)\n",
    "random_4=tf.random.uniform(shape=(3,2))\n",
    "random_3, random_4"
   ]
  }
 ],
 "metadata": {
  "kernelspec": {
   "display_name": "venv",
   "language": "python",
   "name": "python3"
  },
  "language_info": {
   "codemirror_mode": {
    "name": "ipython",
    "version": 3
   },
   "file_extension": ".py",
   "mimetype": "text/x-python",
   "name": "python",
   "nbconvert_exporter": "python",
   "pygments_lexer": "ipython3",
   "version": "3.7.0"
  }
 },
 "nbformat": 4,
 "nbformat_minor": 5
}
