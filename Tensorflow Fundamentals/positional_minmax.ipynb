{
 "cells": [
  {
   "cell_type": "markdown",
   "id": "255433ef",
   "metadata": {},
   "source": [
    "# Finding positinal max and min of a tensor\n",
    "\n",
    "🔹 tf.argmax() — for max position\n",
    "\n",
    "🔹 tf.argmin() — for min position"
   ]
  },
  {
   "cell_type": "code",
   "execution_count": 3,
   "id": "ca6bb5f4",
   "metadata": {},
   "outputs": [
    {
     "data": {
      "text/plain": [
       "<tf.Tensor: shape=(50,), dtype=float32, numpy=\n",
       "array([0.644151  , 0.8082472 , 0.8976548 , 0.6368902 , 0.6270969 ,\n",
       "       0.9936013 , 0.02359486, 0.03668392, 0.5860578 , 0.5740315 ,\n",
       "       0.09047401, 0.5755553 , 0.25272822, 0.11045039, 0.61225283,\n",
       "       0.1290685 , 0.89660144, 0.06479812, 0.8622047 , 0.82242084,\n",
       "       0.4016037 , 0.7659943 , 0.4539342 , 0.32376182, 0.4617684 ,\n",
       "       0.32858098, 0.8104389 , 0.1609515 , 0.07981062, 0.5934839 ,\n",
       "       0.6243702 , 0.9112947 , 0.88744843, 0.9568223 , 0.436625  ,\n",
       "       0.9997524 , 0.24064243, 0.8281152 , 0.54077435, 0.8436167 ,\n",
       "       0.33806038, 0.9431902 , 0.08632314, 0.68907607, 0.53072953,\n",
       "       0.9125186 , 0.06304038, 0.95265174, 0.8152896 , 0.57640743],\n",
       "      dtype=float32)>"
      ]
     },
     "execution_count": 3,
     "metadata": {},
     "output_type": "execute_result"
    }
   ],
   "source": [
    "# Create a new tensor for finding positional min and max\n",
    "import tensorflow as tf \n",
    "\n",
    "tf.random.set_seed(10)\n",
    "tensor=tf.random.uniform(shape=[50])\n",
    "\n",
    "tensor"
   ]
  },
  {
   "cell_type": "code",
   "execution_count": 4,
   "id": "39c61945",
   "metadata": {},
   "outputs": [
    {
     "data": {
      "text/plain": [
       "<tf.Tensor: shape=(), dtype=int64, numpy=35>"
      ]
     },
     "execution_count": 4,
     "metadata": {},
     "output_type": "execute_result"
    }
   ],
   "source": [
    "# finding the positional maximum\n",
    "\n",
    "tf.argmax(tensor)"
   ]
  },
  {
   "cell_type": "code",
   "execution_count": null,
   "id": "c52557c7",
   "metadata": {},
   "outputs": [
    {
     "data": {
      "text/plain": [
       "(<tf.Tensor: shape=(), dtype=float32, numpy=0.9997524>,\n",
       " <tf.Tensor: shape=(), dtype=float32, numpy=0.9997524>)"
      ]
     },
     "execution_count": 7,
     "metadata": {},
     "output_type": "execute_result"
    }
   ],
   "source": [
    "# for checking \n",
    "max(tensor),tf.reduce_max(tensor)"
   ]
  },
  {
   "cell_type": "code",
   "execution_count": 6,
   "id": "e2ce7f28",
   "metadata": {},
   "outputs": [
    {
     "data": {
      "text/plain": [
       "<tf.Tensor: shape=(), dtype=int64, numpy=6>"
      ]
     },
     "execution_count": 6,
     "metadata": {},
     "output_type": "execute_result"
    }
   ],
   "source": [
    "# finding the positional minimum\n",
    "tf.argmin(tensor)"
   ]
  },
  {
   "cell_type": "code",
   "execution_count": 8,
   "id": "3d038987",
   "metadata": {},
   "outputs": [
    {
     "data": {
      "text/plain": [
       "(<tf.Tensor: shape=(), dtype=float32, numpy=0.023594856>,\n",
       " <tf.Tensor: shape=(), dtype=float32, numpy=0.023594856>)"
      ]
     },
     "execution_count": 8,
     "metadata": {},
     "output_type": "execute_result"
    }
   ],
   "source": [
    "# For checking \n",
    "min(tensor),tf.reduce_min(tensor)"
   ]
  },
  {
   "cell_type": "code",
   "execution_count": 9,
   "id": "06eea709",
   "metadata": {},
   "outputs": [
    {
     "data": {
      "text/plain": [
       "<tf.Tensor: shape=(50,), dtype=float32, numpy=\n",
       "array([0.644151  , 0.8082472 , 0.8976548 , 0.6368902 , 0.6270969 ,\n",
       "       0.9936013 , 0.02359486, 0.03668392, 0.5860578 , 0.5740315 ,\n",
       "       0.09047401, 0.5755553 , 0.25272822, 0.11045039, 0.61225283,\n",
       "       0.1290685 , 0.89660144, 0.06479812, 0.8622047 , 0.82242084,\n",
       "       0.4016037 , 0.7659943 , 0.4539342 , 0.32376182, 0.4617684 ,\n",
       "       0.32858098, 0.8104389 , 0.1609515 , 0.07981062, 0.5934839 ,\n",
       "       0.6243702 , 0.9112947 , 0.88744843, 0.9568223 , 0.436625  ,\n",
       "       0.9997524 , 0.24064243, 0.8281152 , 0.54077435, 0.8436167 ,\n",
       "       0.33806038, 0.9431902 , 0.08632314, 0.68907607, 0.53072953,\n",
       "       0.9125186 , 0.06304038, 0.95265174, 0.8152896 , 0.57640743],\n",
       "      dtype=float32)>"
      ]
     },
     "execution_count": 9,
     "metadata": {},
     "output_type": "execute_result"
    }
   ],
   "source": [
    "tensor"
   ]
  },
  {
   "cell_type": "code",
   "execution_count": 10,
   "id": "6ebfa8ef",
   "metadata": {},
   "outputs": [
    {
     "data": {
      "text/plain": [
       "<tf.Tensor: shape=(), dtype=float32, numpy=0.023594856>"
      ]
     },
     "execution_count": 10,
     "metadata": {},
     "output_type": "execute_result"
    }
   ],
   "source": [
    "# Finding the min value using argin min index\n",
    "tensor[6]"
   ]
  },
  {
   "cell_type": "code",
   "execution_count": 11,
   "id": "449d8275",
   "metadata": {},
   "outputs": [
    {
     "data": {
      "text/plain": [
       "<tf.Tensor: shape=(), dtype=float32, numpy=0.9997524>"
      ]
     },
     "execution_count": 11,
     "metadata": {},
     "output_type": "execute_result"
    }
   ],
   "source": [
    "# Similarly finding max value using argmax index\n",
    "tensor[35]"
   ]
  },
  {
   "cell_type": "code",
   "execution_count": null,
   "id": "876ba458",
   "metadata": {},
   "outputs": [],
   "source": []
  }
 ],
 "metadata": {
  "kernelspec": {
   "display_name": "venv",
   "language": "python",
   "name": "python3"
  },
  "language_info": {
   "codemirror_mode": {
    "name": "ipython",
    "version": 3
   },
   "file_extension": ".py",
   "mimetype": "text/x-python",
   "name": "python",
   "nbconvert_exporter": "python",
   "pygments_lexer": "ipython3",
   "version": "3.7.0"
  }
 },
 "nbformat": 4,
 "nbformat_minor": 5
}
